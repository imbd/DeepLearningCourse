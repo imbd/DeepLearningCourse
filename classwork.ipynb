{
 "cells": [
  {
   "cell_type": "code",
   "execution_count": 329,
   "metadata": {},
   "outputs": [],
   "source": [
    "import os\n",
    "import numpy as np\n",
    "import matplotlib.pyplot as plt\n",
    "import tensorflow as tf\n",
    "import xlrd\n"
   ]
  },
  {
   "cell_type": "markdown",
   "metadata": {},
   "source": [
    "Step 1: read in data from the .xls file"
   ]
  },
  {
   "cell_type": "code",
   "execution_count": 330,
   "metadata": {
    "collapsed": true
   },
   "outputs": [],
   "source": [
    "DATA_FILE = '../data/fire_theft.xls'\n",
    "\n",
    "book = xlrd.open_workbook(DATA_FILE, encoding_override=\"utf-8\")\n",
    "sheet = book.sheet_by_index(0)\n",
    "data = np.asarray([sheet.row_values(i) for i in range(1, sheet.nrows)])\n",
    "n_samples = sheet.nrows - 1"
   ]
  },
  {
   "cell_type": "markdown",
   "metadata": {},
   "source": [
    "Step 2: create placeholders for input X (number of fire) and label Y (number of theft)"
   ]
  },
  {
   "cell_type": "code",
   "execution_count": 331,
   "metadata": {
    "collapsed": true
   },
   "outputs": [],
   "source": [
    "X = tf.placeholder(tf.float32, name=\"X\")\n",
    "Y = tf.placeholder(tf.float32, name=\"Y\")"
   ]
  },
  {
   "cell_type": "markdown",
   "metadata": {},
   "source": [
    "Step 3: create weight and bias, initialized to 0"
   ]
  },
  {
   "cell_type": "code",
   "execution_count": 332,
   "metadata": {
    "collapsed": true
   },
   "outputs": [],
   "source": [
    "w = tf.Variable(0.0, name='w')\n",
    "b = tf.Variable(0.0, name='b')"
   ]
  },
  {
   "cell_type": "markdown",
   "metadata": {},
   "source": [
    "Step 4: build model to predict Y"
   ]
  },
  {
   "cell_type": "code",
   "execution_count": 333,
   "metadata": {
    "collapsed": true
   },
   "outputs": [],
   "source": [
    "Y_predicted = w * X + b"
   ]
  },
  {
   "cell_type": "markdown",
   "metadata": {},
   "source": [
    "Step 5: use the square error as the loss function"
   ]
  },
  {
   "cell_type": "code",
   "execution_count": 334,
   "metadata": {
    "collapsed": true
   },
   "outputs": [],
   "source": [
    "loss = tf.square(Y - Y_predicted)"
   ]
  },
  {
   "cell_type": "markdown",
   "metadata": {},
   "source": [
    "Step 5a: implement Huber loss function from lecture and try it out"
   ]
  },
  {
   "cell_type": "code",
   "execution_count": 335,
   "metadata": {
    "collapsed": true
   },
   "outputs": [],
   "source": [
    "def huber_loss(labels, predictions, delta=1.0):\n",
    "    diff = tf.abs(predictions - labels)\n",
    "    cond = tf.less(diff, delta)\n",
    "    res_sml = 0.5 * tf.square(diff) \n",
    "    res_lrg = delta * diff - 0.5 * tf.square(delta)\n",
    "    return tf.where(cond, res_sml, res_lrg)"
   ]
  },
  {
   "cell_type": "code",
   "execution_count": 336,
   "metadata": {},
   "outputs": [],
   "source": [
    "loss = huber_loss(Y, Y_predicted)\n",
    "#loss = utils.huber_loss(Y, Y_predicted)"
   ]
  },
  {
   "cell_type": "markdown",
   "metadata": {},
   "source": [
    "Step 6: using gradient descent with learning rate of 0.01 to minimize loss"
   ]
  },
  {
   "cell_type": "code",
   "execution_count": 337,
   "metadata": {
    "collapsed": true
   },
   "outputs": [],
   "source": [
    "optimizer = tf.train.GradientDescentOptimizer(learning_rate=0.02).minimize(loss)"
   ]
  },
  {
   "cell_type": "code",
   "execution_count": 338,
   "metadata": {
    "collapsed": true
   },
   "outputs": [],
   "source": [
    "sess = tf.Session() # prefer with tf.Session() as sess: in your code"
   ]
  },
  {
   "cell_type": "markdown",
   "metadata": {},
   "source": [
    "Step 7: initialize the necessary variables, in this case, w and b"
   ]
  },
  {
   "cell_type": "code",
   "execution_count": 339,
   "metadata": {
    "collapsed": true
   },
   "outputs": [],
   "source": [
    "sess.run(tf.global_variables_initializer())\n",
    "writer = tf.summary.FileWriter('./graphs/linear_reg', sess.graph)"
   ]
  },
  {
   "cell_type": "markdown",
   "metadata": {},
   "source": [
    "Step 8: train the model"
   ]
  },
  {
   "cell_type": "code",
   "execution_count": 340,
   "metadata": {},
   "outputs": [
    {
     "name": "stdout",
     "output_type": "stream",
     "text": [
      "Epoch 0: 19.912709803808305\n",
      "Epoch 1: 17.60132904741026\n",
      "Epoch 2: 17.418483984789678\n",
      "Epoch 3: 17.42033826737177\n",
      "Epoch 4: 17.107126844514692\n",
      "Epoch 5: 17.130360099531355\n",
      "Epoch 6: 16.87036039972944\n",
      "Epoch 7: 16.869343980792024\n",
      "Epoch 8: 16.49728204394203\n",
      "Epoch 9: 16.042431409869874\n",
      "Epoch 10: 16.14836044412195\n",
      "Epoch 11: 15.845705719221206\n",
      "Epoch 12: 16.14649705952477\n",
      "Epoch 13: 15.658846432354213\n",
      "Epoch 14: 15.582563824951649\n",
      "Epoch 15: 15.492308557388329\n",
      "Epoch 16: 15.412787994813351\n",
      "Epoch 17: 15.329379122172083\n",
      "Epoch 18: 15.245205446390347\n",
      "Epoch 19: 15.161197135324723\n",
      "Epoch 20: 15.077233184656333\n",
      "Epoch 21: 14.993281070003702\n",
      "Epoch 22: 14.913500332528548\n",
      "Epoch 23: 14.848449217953853\n",
      "Epoch 24: 14.784639825246163\n",
      "Epoch 25: 14.727556729955333\n",
      "Epoch 26: 14.671750120430564\n",
      "Epoch 27: 14.620467117599523\n",
      "Epoch 28: 14.571350350665549\n",
      "Epoch 29: 14.52113401442988\n",
      "Epoch 30: 14.468242385302714\n",
      "Epoch 31: 14.421892493963242\n",
      "Epoch 32: 14.37290645423872\n",
      "Epoch 33: 14.336734500769083\n",
      "Epoch 34: 14.293072095196251\n",
      "Epoch 35: 14.260687699497101\n",
      "Epoch 36: 14.230587006058721\n",
      "Epoch 37: 14.209065557767948\n",
      "Epoch 38: 14.196722846603128\n",
      "Epoch 39: 14.194910530067448\n",
      "Epoch 40: 14.190761800428541\n",
      "Epoch 41: 14.191080369410061\n",
      "Epoch 42: 14.18163592723154\n",
      "Epoch 43: 14.152640688987006\n",
      "Epoch 44: 13.973345675516786\n",
      "Epoch 45: 14.08507151493714\n",
      "Epoch 46: 13.26391190565413\n",
      "Epoch 47: 13.319045519046735\n",
      "Epoch 48: 13.737106780482767\n",
      "Epoch 49: 13.802812954757385\n",
      "Epoch 50: 13.778045964601915\n",
      "Epoch 51: 13.710683187913327\n",
      "Epoch 52: 13.734464858170776\n",
      "Epoch 53: 13.16903716470309\n",
      "Epoch 54: 13.496276750362345\n",
      "Epoch 55: 13.735449036672001\n",
      "Epoch 56: 13.134448970546059\n",
      "Epoch 57: 13.61333678908358\n",
      "Epoch 58: 13.700320414134435\n",
      "Epoch 59: 13.659524464358887\n",
      "Epoch 60: 13.653637637694677\n",
      "Epoch 61: 13.63546641400483\n",
      "Epoch 62: 13.635595050596056\n",
      "Epoch 63: 13.587555376103236\n",
      "Epoch 64: 13.52875381442053\n",
      "Epoch 65: 13.546561564363184\n",
      "Epoch 66: 13.172471538762606\n",
      "Epoch 67: 13.408252041520816\n",
      "Epoch 68: 13.516358864005833\n",
      "Epoch 69: 13.492530141557966\n",
      "Epoch 70: 13.446409247650687\n",
      "Epoch 71: 13.273214913195087\n",
      "Epoch 72: 13.116487546513477\n",
      "Epoch 73: 13.37320228870071\n",
      "Epoch 74: 13.460190095406558\n",
      "Epoch 75: 13.426386560712542\n",
      "Epoch 76: 13.350216231511219\n",
      "Epoch 77: 13.40312594033423\n",
      "Epoch 78: 13.386195409865607\n",
      "Epoch 79: 13.225699037313461\n",
      "Epoch 80: 13.202211424353576\n",
      "Epoch 81: 13.207597213287261\n",
      "Epoch 82: 13.177682699546928\n",
      "Epoch 83: 13.191114621891064\n",
      "Epoch 84: 13.151604011654854\n",
      "Epoch 85: 13.189586480128733\n",
      "Epoch 86: 13.136322014388584\n",
      "Epoch 87: 13.147347474781176\n",
      "Epoch 88: 13.110695136444908\n",
      "Epoch 89: 13.132640199274258\n",
      "Epoch 90: 13.083087636601357\n",
      "Epoch 91: 13.124589929900443\n",
      "Epoch 92: 13.055724080829393\n",
      "Epoch 93: 13.143137678237897\n",
      "Epoch 94: 13.05467072590476\n",
      "Epoch 95: 13.05829814573129\n",
      "Epoch 96: 13.030494959404072\n",
      "Epoch 97: 13.041275263187432\n",
      "Epoch 98: 13.0049158065092\n",
      "Epoch 99: 13.026487787581226\n",
      "Epoch 100: 12.977372359661828\n",
      "Epoch 101: 13.015268658509566\n",
      "Epoch 102: 12.947203482900347\n",
      "Epoch 103: 13.009884085683595\n",
      "Epoch 104: 12.918533915565128\n",
      "Epoch 105: 13.009498311295395\n",
      "Epoch 106: 12.89742696852911\n",
      "Epoch 107: 12.977150595613889\n",
      "Epoch 108: 12.876759937831334\n",
      "Epoch 109: 12.954653130755538\n",
      "Epoch 110: 12.856613931201753\n",
      "Epoch 111: 12.929062444894086\n",
      "Epoch 112: 12.664240837097168\n",
      "Epoch 113: 12.790898619663148\n",
      "Epoch 114: 12.869210220695962\n",
      "Epoch 115: 12.819002176679316\n",
      "Epoch 116: 12.858309588428321\n",
      "Epoch 117: 12.325106024032547\n",
      "Epoch 118: 12.982473440113521\n",
      "Epoch 119: 12.716786752499285\n",
      "Epoch 120: 12.754159320855425\n",
      "Epoch 121: 12.781134825909422\n",
      "Epoch 122: 12.763392696600585\n",
      "Epoch 123: 12.76164440047883\n",
      "Epoch 124: 12.541590314713263\n",
      "Epoch 125: 12.051678738778545\n",
      "Epoch 126: 12.735925583257561\n",
      "Epoch 127: 12.395768835037458\n",
      "Epoch 128: 12.743120080347927\n",
      "Epoch 129: 11.948421875635782\n",
      "Epoch 130: 12.06392236444212\n",
      "Epoch 131: 12.794113416756902\n",
      "Epoch 132: 12.006887283353578\n",
      "Epoch 133: 11.950362657507261\n",
      "Epoch 134: 12.075087566904369\n",
      "Epoch 135: 12.789587369632153\n",
      "Epoch 136: 11.963435445513044\n",
      "Epoch 137: 12.108686591454205\n",
      "Epoch 138: 12.78381911807117\n",
      "Epoch 139: 11.94310090123188\n",
      "Epoch 140: 12.071005604185519\n",
      "Epoch 141: 12.759219722556216\n",
      "Epoch 142: 12.096493852125215\n",
      "Epoch 143: 12.761541328792061\n",
      "Epoch 144: 12.093015258510908\n",
      "Epoch 145: 12.738853283315187\n",
      "Epoch 146: 12.089050928086397\n",
      "Epoch 147: 12.659609423994663\n",
      "Epoch 148: 12.047310650526057\n",
      "Epoch 149: 11.953868753049479\n"
     ]
    }
   ],
   "source": [
    "for i in range(150): # train the model 150 epochs\n",
    "    total_loss = 0\n",
    "    for x, y in data:\n",
    "        # Session runs train_op and fetch values of loss\n",
    "        _, l = sess.run([optimizer, loss], feed_dict={X:x, Y:y})\n",
    "        total_loss += l\n",
    "    print('Epoch {0}: {1}'.format(i, total_loss/float(n_samples)))\n",
    "\n",
    "# close the writer when you're done using it\n",
    "writer.close()"
   ]
  },
  {
   "cell_type": "markdown",
   "metadata": {},
   "source": [
    "Step 9: output the values of w and b"
   ]
  },
  {
   "cell_type": "code",
   "execution_count": 341,
   "metadata": {
    "collapsed": true
   },
   "outputs": [],
   "source": [
    "w, b = sess.run([w, b])"
   ]
  },
  {
   "cell_type": "markdown",
   "metadata": {},
   "source": [
    "Step 10: plot the results"
   ]
  },
  {
   "cell_type": "code",
   "execution_count": 342,
   "metadata": {},
   "outputs": [
    {
     "data": {
      "image/png": "[encoded data removed]",
      "text/plain": [
       "<matplotlib.figure.Figure at 0x2065cd0b748>"
      ]
     },
     "metadata": {},
     "output_type": "display_data"
    }
   ],
   "source": [
    "X, Y = data[:, 0], data[:, 1]\n",
    "plt.scatter(X, Y, label=\"Real data\")\n",
    "plt.plot(X, w * X + b, label=\"Predicted data\", color='r')\n",
    "plt.show()"
   ]
  },
  {
   "cell_type": "code",
   "execution_count": null,
   "metadata": {
    "collapsed": true
   },
   "outputs": [],
   "source": [
    ""
   ]
  }
 ],
 "metadata": {
  "kernelspec": {
   "display_name": "Python 3",
   "language": "python",
   "name": "python3"
  },
  "language_info": {
   "codemirror_mode": {
    "name": "ipython",
    "version": 3.0
   },
   "file_extension": ".py",
   "mimetype": "text/x-python",
   "name": "python",
   "nbconvert_exporter": "python",
   "pygments_lexer": "ipython3",
   "version": "3.6.1"
  }
 },
 "nbformat": 4,
 "nbformat_minor": 0
}