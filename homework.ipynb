{
 "cells": [
  {
   "cell_type": "markdown",
   "metadata": {},
   "source": [
    "# Homework:\n",
    "# Deep Convolutional Generative Adversarial Network "
   ]
  },
  {
   "cell_type": "markdown",
   "metadata": {},
   "source": [
    "Description of an implementation of DCGAN can be found in [Unsupervised Representation Learning with Deep Convolutional Generative Adversarial Networks](https://arxiv.org/abs/1511.06434)."
   ]
  },
  {
   "cell_type": "code",
   "execution_count": 20,
   "metadata": {
    "collapsed": true
   },
   "outputs": [],
   "source": [
    "#Import the libraries we will need.\n",
    "import tensorflow as tf\n",
    "import numpy as np\n",
    "from tensorflow.examples.tutorials.mnist import input_data\n",
    "import matplotlib.pyplot as plt\n",
    "import tensorflow.contrib.slim as slim\n",
    "import os\n",
    "import scipy.misc\n",
    "import scipy\n",
    "\n",
    "#config = tf.ConfigProto(device_count={'GPU': 0})\n",
    "gpu_options = tf.GPUOptions(per_process_gpu_memory_fraction=0.33)\n",
    "config = tf.ConfigProto(gpu_options=gpu_options)"
   ]
  },
  {
   "cell_type": "markdown",
   "metadata": {},
   "source": [
    "We will be using the MNIST dataset. input_data is a library that downloads the dataset and uzips it automatically."
   ]
  },
  {
   "cell_type": "code",
   "execution_count": 21,
   "metadata": {
    "scrolled": true
   },
   "outputs": [
    {
     "name": "stdout",
     "output_type": "stream",
     "text": [
      "Extracting DATA/train-images-idx3-ubyte.gz\n",
      "Extracting DATA/train-labels-idx1-ubyte.gz\n",
      "Extracting DATA/t10k-images-idx3-ubyte.gz\n",
      "Extracting DATA/t10k-labels-idx1-ubyte.gz\n"
     ]
    }
   ],
   "source": [
    "#mnist = input_data.read_data_sets('fashion-mnist/data/fashion', one_hot=False)\n",
    "mnist = input_data.read_data_sets('DATA', one_hot=False)"
   ]
  },
  {
   "cell_type": "markdown",
   "metadata": {},
   "source": [
    "### Helper Functions"
   ]
  },
  {
   "cell_type": "code",
   "execution_count": 22,
   "metadata": {
    "collapsed": true
   },
   "outputs": [],
   "source": [
    "#This function performns a leaky relu activation, which is needed for the discriminator network.\n",
    "def lrelu(x, leak=0.2, name=\"lrelu\"):\n",
    "    with tf.variable_scope(name):\n",
    "        f1 = 0.5 * (1 + leak)\n",
    "        f2 = 0.5 * (1 - leak)\n",
    "        return f1 * x + f2 * abs(x)\n",
    "    \n",
    "#The below functions are taken from carpdem20's implementation https://github.com/carpedm20/DCGAN-tensorflow\n",
    "#They allow for saving sample images from the generator to follow progress\n",
    "def save_images(images, size, image_path):\n",
    "    return imsave(inverse_transform(images), size, image_path)\n",
    "\n",
    "def imsave(images, size, path):\n",
    "    return scipy.misc.imsave(path, merge(images, size))\n",
    "\n",
    "def inverse_transform(images):\n",
    "    return (images+1.)/2.\n",
    "\n",
    "def merge(images, size):\n",
    "    h, w = images.shape[1], images.shape[2]\n",
    "    img = np.zeros((h * size[0], w * size[1]))\n",
    "\n",
    "    for idx, image in enumerate(images):\n",
    "        i = idx % size[1]\n",
    "        j = idx // size[1]\n",
    "        img[j*h:j*h+h, i*w:i*w+w] = image\n",
    "\n",
    "    return img"
   ]
  },
  {
   "cell_type": "markdown",
   "metadata": {},
   "source": [
    "## Defining the Adversarial Networks"
   ]
  },
  {
   "cell_type": "markdown",
   "metadata": {},
   "source": [
    "### Generator Network"
   ]
  },
  {
   "cell_type": "code",
   "execution_count": 23,
   "metadata": {
    "collapsed": true
   },
   "outputs": [],
   "source": [
    "def generator(z):\n",
    "    \n",
    "    zP = slim.fully_connected(z,4*4*256,normalizer_fn=slim.batch_norm,\\\n",
    "        activation_fn=tf.nn.relu,scope='g_project',weights_initializer=initializer)\n",
    "    zCon = tf.reshape(zP,[-1,4,4,256])\n",
    "    \n",
    "    gen1 = slim.convolution2d_transpose(\\\n",
    "        zCon,num_outputs=64,kernel_size=[5,5],stride=[2,2],\\\n",
    "        padding=\"SAME\",normalizer_fn=slim.batch_norm,\\\n",
    "        activation_fn=tf.nn.relu,scope='g_conv1', weights_initializer=initializer)\n",
    "    \n",
    "    gen2 = slim.convolution2d_transpose(\\\n",
    "        gen1,num_outputs=32,kernel_size=[5,5],stride=[2,2],\\\n",
    "        padding=\"SAME\",normalizer_fn=slim.batch_norm,\\\n",
    "        activation_fn=tf.nn.relu,scope='g_conv2', weights_initializer=initializer)\n",
    "    \n",
    "    gen3 = slim.convolution2d_transpose(\\\n",
    "        gen2,num_outputs=16,kernel_size=[5,5],stride=[2,2],\\\n",
    "        padding=\"SAME\",normalizer_fn=slim.batch_norm,\\\n",
    "        activation_fn=tf.nn.relu,scope='g_conv3', weights_initializer=initializer)\n",
    "    \n",
    "    g_out = slim.convolution2d_transpose(\\\n",
    "        gen3,num_outputs=1,kernel_size=[32,32],padding=\"SAME\",\\\n",
    "        biases_initializer=None,activation_fn=tf.nn.tanh,\\\n",
    "        scope='g_out', weights_initializer=initializer)\n",
    "    \n",
    "    return g_out"
   ]
  },
  {
   "cell_type": "markdown",
   "metadata": {},
   "source": [
    "### Discriminator Network"
   ]
  },
  {
   "cell_type": "markdown",
   "metadata": {},
   "source": [
    "### Task1 (13 points)\n",
    "Fill parameter for the discrimiator architecture"
   ]
  },
  {
   "cell_type": "code",
   "execution_count": 24,
   "metadata": {
    "collapsed": true
   },
   "outputs": [],
   "source": [
    "def discriminator(bottom, reuse=False):\n",
    "    with slim.arg_scope([slim.fully_connected, slim.convolution2d], reuse=reuse, weights_initializer=initializer):\n",
    "        # Your code here\n",
    "        dis1 = slim.convolution2d(bottom, scope='d_conv1', num_outputs=16, kernel_size=[5,5],stride=[2,2], \n",
    "                                  padding=\"SAME\",normalizer_fn=slim.batch_norm, activation_fn=lrelu)\n",
    "\n",
    "        dis2 = slim.convolution2d(dis1, scope='d_conv2', num_outputs=32, kernel_size=[5,5],stride=[2,2], \n",
    "                                  padding=\"SAME\",normalizer_fn=slim.batch_norm, activation_fn=lrelu)\n",
    "\n",
    "        dis3 = slim.convolution2d(dis2, scope='d_conv3', num_outputs=64, kernel_size=[5,5],stride=[2,2], \n",
    "                                  padding=\"SAME\",normalizer_fn=slim.batch_norm, activation_fn=lrelu)\n",
    "\n",
    "        d_out = slim.fully_connected(slim.flatten(dis3), scope='d_out', num_outputs=1, activation_fn=tf.nn.sigmoid)\n",
    "    \n",
    "    return d_out"
   ]
  },
  {
   "cell_type": "markdown",
   "metadata": {},
   "source": [
    "### Connecting them together"
   ]
  },
  {
   "cell_type": "code",
   "execution_count": 25,
   "metadata": {
    "collapsed": true
   },
   "outputs": [],
   "source": [
    "tf.reset_default_graph()\n",
    "\n",
    "z_size = 100 #Size of z vector used for generator.\n",
    "\n",
    "#This initializaer is used to initialize all the weights of the network.\n",
    "initializer = tf.truncated_normal_initializer(stddev=0.02)\n",
    "\n",
    "#These two placeholders are used for input into the generator and discriminator, respectively.\n",
    "z_in = tf.placeholder(shape=[None,z_size],dtype=tf.float32) #Random vector\n",
    "real_in = tf.placeholder(shape=[None,32,32,1],dtype=tf.float32) #Real images\n",
    "\n",
    "Gz = generator(z_in) #Generates images from random z vectors\n",
    "Dx = discriminator(real_in) #Produces probabilities for real images\n",
    "Dg = discriminator(Gz,reuse=True) #Produces probabilities for generator images\n",
    "\n",
    "#These functions together define the optimization objective of the GAN.\n",
    "d_loss = -tf.reduce_mean(tf.log(Dx) + tf.log(1.-Dg)) #This optimizes the discriminator.\n",
    "g_loss = -tf.reduce_mean(tf.log(Dg)) #This optimizes the generator.\n",
    "\n",
    "tvars = tf.trainable_variables()\n",
    "\n",
    "#The below code is responsible for applying gradient descent to update the GAN.\n",
    "trainerD = tf.train.AdamOptimizer(learning_rate=0.0002,beta1=0.5)\n",
    "trainerG = tf.train.AdamOptimizer(learning_rate=0.0002,beta1=0.5)\n",
    "d_grads = trainerD.compute_gradients(d_loss,tvars[9:]) #Only update the weights for the discriminator network.\n",
    "g_grads = trainerG.compute_gradients(g_loss,tvars[0:9]) #Only update the weights for the generator network.\n",
    "\n",
    "update_D = trainerD.apply_gradients(d_grads)\n",
    "update_G = trainerG.apply_gradients(g_grads)"
   ]
  },
  {
   "cell_type": "markdown",
   "metadata": {
    "collapsed": true
   },
   "source": [
    "## Training the network\n",
    "I strongly advise you to skip this cell and go the the next one since training will take you enormous amount of time"
   ]
  },
  {
   "cell_type": "code",
   "execution_count": 29,
   "metadata": {
    "scrolled": true
   },
   "outputs": [
    {
     "name": "stdout",
     "output_type": "stream",
     "text": [
      "Gen Loss: 0.370232 Disc Loss: 1.32224\n",
      "Gen Loss: 0.65724 Disc Loss: 1.66296\n",
      "Gen Loss: 1.00114 Disc Loss: 1.26733\n",
      "Gen Loss: 0.958768 Disc Loss: 1.11749\n",
      "Gen Loss: 0.785038 Disc Loss: 1.26597\n",
      "Gen Loss: 0.775651 Disc Loss: 1.315\n",
      "Gen Loss: 0.701468 Disc Loss: 1.39902\n",
      "Gen Loss: 0.702508 Disc Loss: 1.41573\n",
      "Gen Loss: 0.695484 Disc Loss: 1.37672\n",
      "Gen Loss: 0.723126 Disc Loss: 1.36939\n",
      "Gen Loss: 0.749178 Disc Loss: 1.37411\n",
      "Gen Loss: 0.673252 Disc Loss: 1.3848\n",
      "Gen Loss: 0.868437 Disc Loss: 1.21636\n",
      "Gen Loss: 0.812665 Disc Loss: 1.29192\n",
      "Gen Loss: 0.798985 Disc Loss: 1.2623\n",
      "Gen Loss: 0.755055 Disc Loss: 1.29064\n",
      "Gen Loss: 1.08486 Disc Loss: 1.39923\n",
      "Gen Loss: 0.804939 Disc Loss: 1.21895\n",
      "Gen Loss: 1.09134 Disc Loss: 1.30363\n",
      "Gen Loss: 0.783977 Disc Loss: 1.21742\n",
      "Gen Loss: 1.018 Disc Loss: 1.24068\n",
      "Saved Model\n",
      "Gen Loss: 0.624821 Disc Loss: 1.18419\n",
      "Gen Loss: 1.39159 Disc Loss: 1.30959\n",
      "Gen Loss: 2.28447 Disc Loss: 1.40268\n",
      "Gen Loss: 0.657813 Disc Loss: 1.03377\n",
      "Gen Loss: 0.510858 Disc Loss: 1.36159\n",
      "Gen Loss: 0.576438 Disc Loss: 1.24878\n",
      "Gen Loss: 0.769531 Disc Loss: 1.07514\n",
      "Gen Loss: 0.820008 Disc Loss: 1.2319\n",
      "Gen Loss: 0.812659 Disc Loss: 1.22615\n",
      "Gen Loss: 1.71393 Disc Loss: 1.13699\n",
      "Gen Loss: 1.49795 Disc Loss: 1.03704\n",
      "Gen Loss: 0.771697 Disc Loss: 1.02632\n",
      "Gen Loss: 1.26453 Disc Loss: 1.23923\n",
      "Gen Loss: 0.962617 Disc Loss: 1.24271\n",
      "Gen Loss: 0.938711 Disc Loss: 1.26107\n",
      "Gen Loss: 0.641639 Disc Loss: 1.27128\n",
      "Gen Loss: 1.02685 Disc Loss: 1.23524\n",
      "Gen Loss: 0.845912 Disc Loss: 1.19354\n",
      "Gen Loss: 1.08325 Disc Loss: 1.27879\n",
      "Gen Loss: 0.960814 Disc Loss: 1.23827\n",
      "Saved Model\n",
      "Gen Loss: 0.67297 Disc Loss: 1.18807\n",
      "Gen Loss: 0.931841 Disc Loss: 1.11533\n",
      "Gen Loss: 0.754498 Disc Loss: 1.39365\n",
      "Gen Loss: 0.643052 Disc Loss: 1.20109\n",
      "Gen Loss: 0.964393 Disc Loss: 1.05109\n",
      "Gen Loss: 0.708784 Disc Loss: 1.31432\n",
      "Gen Loss: 1.51685 Disc Loss: 1.3654\n",
      "Gen Loss: 0.867955 Disc Loss: 1.23219\n",
      "Gen Loss: 0.913283 Disc Loss: 1.22421\n",
      "Gen Loss: 1.06463 Disc Loss: 1.15529\n",
      "Gen Loss: 0.400698 Disc Loss: 1.34188\n",
      "Gen Loss: 0.78597 Disc Loss: 1.34359\n",
      "Gen Loss: 0.651584 Disc Loss: 1.40414\n",
      "Gen Loss: 1.62345 Disc Loss: 1.1224\n",
      "Gen Loss: 0.342706 Disc Loss: 0.929944\n",
      "Gen Loss: 1.04741 Disc Loss: 1.06173\n",
      "Gen Loss: 0.697368 Disc Loss: 1.16005\n",
      "Gen Loss: 0.648706 Disc Loss: 1.30833\n",
      "Gen Loss: 0.597824 Disc Loss: 1.16542\n",
      "Gen Loss: 1.14805 Disc Loss: 1.30693\n",
      "Saved Model\n",
      "Gen Loss: 0.985161 Disc Loss: 1.18945\n",
      "Gen Loss: 0.833055 Disc Loss: 1.26531\n",
      "Gen Loss: 0.768398 Disc Loss: 1.23322\n",
      "Gen Loss: 1.07226 Disc Loss: 1.32009\n",
      "Gen Loss: 0.785849 Disc Loss: 1.20563\n",
      "Gen Loss: 0.878604 Disc Loss: 1.23497\n",
      "Gen Loss: 0.957598 Disc Loss: 1.27553\n",
      "Gen Loss: 0.802055 Disc Loss: 1.23715\n",
      "Gen Loss: 1.01197 Disc Loss: 1.17883\n",
      "Gen Loss: 0.825213 Disc Loss: 1.17492\n",
      "Gen Loss: 0.759184 Disc Loss: 1.24369\n",
      "Gen Loss: 0.936037 Disc Loss: 1.38512\n",
      "Gen Loss: 0.741062 Disc Loss: 0.99601\n",
      "Gen Loss: 0.946189 Disc Loss: 1.25156\n",
      "Gen Loss: 0.851175 Disc Loss: 1.1903\n",
      "Gen Loss: 0.6582 Disc Loss: 1.15009\n",
      "Gen Loss: 0.961019 Disc Loss: 1.17903\n",
      "Gen Loss: 0.737459 Disc Loss: 1.30783\n",
      "Gen Loss: 0.889422 Disc Loss: 1.2696\n",
      "Gen Loss: 0.657853 Disc Loss: 1.26702\n",
      "Saved Model\n",
      "Gen Loss: 0.813663 Disc Loss: 1.30642\n",
      "Gen Loss: 0.822844 Disc Loss: 1.32423\n",
      "Gen Loss: 0.810339 Disc Loss: 1.24012\n",
      "Gen Loss: 0.676752 Disc Loss: 1.29299\n",
      "Gen Loss: 0.716647 Disc Loss: 1.45324\n",
      "Gen Loss: 1.00876 Disc Loss: 1.30319\n",
      "Gen Loss: 0.829833 Disc Loss: 1.27591\n",
      "Gen Loss: 0.755646 Disc Loss: 1.26272\n",
      "Gen Loss: 1.30773 Disc Loss: 1.36941\n",
      "Gen Loss: 0.880974 Disc Loss: 1.36768\n",
      "Gen Loss: 0.784828 Disc Loss: 1.39105\n",
      "Gen Loss: 0.856265 Disc Loss: 1.36181\n",
      "Gen Loss: 0.774341 Disc Loss: 1.36754\n",
      "Gen Loss: 0.861416 Disc Loss: 1.33487\n",
      "Gen Loss: 0.577253 Disc Loss: 1.31926\n",
      "Gen Loss: 0.777495 Disc Loss: 1.26607\n",
      "Gen Loss: 0.730958 Disc Loss: 1.31215\n",
      "Gen Loss: 0.769241 Disc Loss: 1.34328\n",
      "Gen Loss: 0.845375 Disc Loss: 1.27005\n",
      "Gen Loss: 0.678984 Disc Loss: 1.35666\n",
      "Saved Model\n",
      "Gen Loss: 0.706311 Disc Loss: 1.2916\n",
      "Gen Loss: 0.776535 Disc Loss: 1.27314\n",
      "Gen Loss: 0.760355 Disc Loss: 1.33554\n",
      "Gen Loss: 0.748561 Disc Loss: 1.34941\n",
      "Gen Loss: 0.730869 Disc Loss: 1.35976\n",
      "Gen Loss: 0.782931 Disc Loss: 1.35925\n",
      "Gen Loss: 0.771466 Disc Loss: 1.40485\n",
      "Gen Loss: 0.69408 Disc Loss: 1.29599\n",
      "Gen Loss: 0.59116 Disc Loss: 1.4094\n",
      "Gen Loss: 0.822662 Disc Loss: 1.42841\n",
      "Gen Loss: 0.751647 Disc Loss: 1.29169\n",
      "Gen Loss: 0.740793 Disc Loss: 1.37909\n",
      "Gen Loss: 0.665196 Disc Loss: 1.34068\n",
      "Gen Loss: 0.723206 Disc Loss: 1.38717\n",
      "Gen Loss: 0.749352 Disc Loss: 1.41594\n",
      "Gen Loss: 0.695348 Disc Loss: 1.33117\n",
      "Gen Loss: 0.725885 Disc Loss: 1.38153\n",
      "Gen Loss: 0.754827 Disc Loss: 1.31601\n",
      "Gen Loss: 0.724809 Disc Loss: 1.3812\n",
      "Gen Loss: 0.66843 Disc Loss: 1.39458\n",
      "Saved Model\n",
      "Gen Loss: 0.661157 Disc Loss: 1.34356\n",
      "Gen Loss: 0.745279 Disc Loss: 1.40184\n",
      "Gen Loss: 0.65659 Disc Loss: 1.33703\n",
      "Gen Loss: 0.723156 Disc Loss: 1.36126\n",
      "Gen Loss: 0.793275 Disc Loss: 1.31068\n",
      "Gen Loss: 0.756732 Disc Loss: 1.32269\n",
      "Gen Loss: 0.771648 Disc Loss: 1.38607\n",
      "Gen Loss: 0.715222 Disc Loss: 1.33468\n",
      "Gen Loss: 0.664498 Disc Loss: 1.33728\n",
      "Gen Loss: 0.690968 Disc Loss: 1.4685\n",
      "Gen Loss: 0.690758 Disc Loss: 1.40553\n",
      "Gen Loss: 0.738879 Disc Loss: 1.35022\n",
      "Gen Loss: 0.803007 Disc Loss: 1.27527\n",
      "Gen Loss: 0.744272 Disc Loss: 1.29335\n",
      "Gen Loss: 0.748295 Disc Loss: 1.52308\n",
      "Gen Loss: 0.723105 Disc Loss: 1.43973\n",
      "Gen Loss: 0.732162 Disc Loss: 1.39259\n",
      "Gen Loss: 0.708412 Disc Loss: 1.38436\n",
      "Gen Loss: 0.678263 Disc Loss: 1.39232\n",
      "Gen Loss: 0.651829 Disc Loss: 1.4032\n",
      "Saved Model\n",
      "Gen Loss: 0.648225 Disc Loss: 1.41045\n",
      "Gen Loss: 0.76072 Disc Loss: 1.37053\n",
      "Gen Loss: 0.700805 Disc Loss: 1.36845\n",
      "Gen Loss: 0.782761 Disc Loss: 1.29919\n",
      "Gen Loss: 0.69652 Disc Loss: 1.36744\n",
      "Gen Loss: 0.735337 Disc Loss: 1.33665\n",
      "Gen Loss: 0.72616 Disc Loss: 1.32996\n",
      "Gen Loss: 0.770174 Disc Loss: 1.34271\n",
      "Gen Loss: 0.660211 Disc Loss: 1.37238\n",
      "Gen Loss: 0.726254 Disc Loss: 1.37268\n",
      "Gen Loss: 0.711683 Disc Loss: 1.38027\n",
      "Gen Loss: 0.750539 Disc Loss: 1.3486\n",
      "Gen Loss: 0.676779 Disc Loss: 1.39855\n",
      "Gen Loss: 0.706696 Disc Loss: 1.37477\n",
      "Gen Loss: 0.682738 Disc Loss: 1.39874\n",
      "Gen Loss: 0.712932 Disc Loss: 1.3564\n",
      "Gen Loss: 0.712 Disc Loss: 1.36185\n",
      "Gen Loss: 0.704564 Disc Loss: 1.41127\n",
      "Gen Loss: 0.670231 Disc Loss: 1.3675\n",
      "Gen Loss: 0.710445 Disc Loss: 1.38171\n",
      "Saved Model\n",
      "Gen Loss: 0.708423 Disc Loss: 1.37108\n",
      "Gen Loss: 0.706964 Disc Loss: 1.34937\n",
      "Gen Loss: 0.706432 Disc Loss: 1.37182\n",
      "Gen Loss: 0.629458 Disc Loss: 1.41583\n",
      "Gen Loss: 0.720834 Disc Loss: 1.37328\n",
      "Gen Loss: 0.751953 Disc Loss: 1.35127\n",
      "Gen Loss: 0.678083 Disc Loss: 1.42204\n",
      "Gen Loss: 0.686526 Disc Loss: 1.37258\n",
      "Gen Loss: 0.678042 Disc Loss: 1.40197\n",
      "Gen Loss: 0.682582 Disc Loss: 1.38616\n",
      "Gen Loss: 0.683139 Disc Loss: 1.36969\n",
      "Gen Loss: 0.704841 Disc Loss: 1.37347\n",
      "Gen Loss: 0.65752 Disc Loss: 1.39751\n",
      "Gen Loss: 0.74844 Disc Loss: 1.36551\n",
      "Gen Loss: 0.69407 Disc Loss: 1.41342\n",
      "Gen Loss: 0.707874 Disc Loss: 1.35653\n",
      "Gen Loss: 0.672759 Disc Loss: 1.38904\n",
      "Gen Loss: 0.731784 Disc Loss: 1.35923\n",
      "Gen Loss: 0.71785 Disc Loss: 1.3922\n",
      "Gen Loss: 0.720938 Disc Loss: 1.38132\n",
      "Saved Model\n"
     ]
    }
   ],
   "source": [
    "batch_size = 128 #Size of image batch to apply at each iteration.\n",
    "iterations = 5 #9005 # 500000 #Total number of iterations to use.\n",
    "sample_directory = './figs' #Directory to save sample images from generator in.\n",
    "model_directory = './models' #Directory to save trained model to.\n",
    "\n",
    "init = tf.global_variables_initializer()\n",
    "saver = tf.train.Saver()\n",
    "with tf.Session(config=config) as sess:  \n",
    "    sess.run(init)\n",
    "    for i in range(iterations):\n",
    "        zs = np.random.uniform(-1.0,1.0,size=[batch_size,z_size]).astype(np.float32) #Generate a random z batch\n",
    "        xs,_ = mnist.train.next_batch(batch_size) #Draw a sample batch from MNIST dataset.\n",
    "        xs = (np.reshape(xs,[batch_size,28,28,1]) - 0.5) * 2.0 #Transform it to be between -1 and 1\n",
    "        xs = np.lib.pad(xs, ((0,0),(2,2),(2,2),(0,0)),'constant', constant_values=(-1, -1)) #Pad the images so the are 32x32\n",
    "        _,dLoss = sess.run([update_D,d_loss],feed_dict={z_in:zs,real_in:xs}) #Update the discriminator\n",
    "        _,gLoss = sess.run([update_G,g_loss],feed_dict={z_in:zs}) #Update the generator, twice for good measure.\n",
    "        _,gLoss = sess.run([update_G,g_loss],feed_dict={z_in:zs})\n",
    "        if i % 50 == 0:\n",
    "            print(\"Gen Loss: \" + str(gLoss) + \" Disc Loss: \" + str(dLoss))\n",
    "            z2 = np.random.uniform(-1.0,1.0,size=[batch_size,z_size]).astype(np.float32) #Generate another z batch\n",
    "            newZ = sess.run(Gz,feed_dict={z_in:z2}) #Use new z to get sample images from generator.\n",
    "            if not os.path.exists(sample_directory):\n",
    "                os.makedirs(sample_directory)\n",
    "            #Save sample generator images for viewing training progress.\n",
    "            save_images(np.reshape(newZ[0:36],[36,32,32]),[6,6],sample_directory+'/fig'+str(i)+'.png')\n",
    "        if i % 1000 == 0 and i != 0:\n",
    "            if not os.path.exists(model_directory):\n",
    "                os.makedirs(model_directory)\n",
    "            saver.save(sess,model_directory+'/model-'+str(i)+'.cptk')\n",
    "            print(\"Saved Model\")"
   ]
  },
  {
   "cell_type": "markdown",
   "metadata": {},
   "source": [
    "## Using a trained network\n",
    "Once we have a trained model saved, we may want to use it to generate new images, and explore the representation it has learned."
   ]
  },
  {
   "cell_type": "code",
   "execution_count": 30,
   "metadata": {},
   "outputs": [
    {
     "name": "stdout",
     "output_type": "stream",
     "text": [
      "Loading Model...\n",
      "INFO:tensorflow:Restoring parameters from ./models/model-9000.cptk\n"
     ]
    }
   ],
   "source": [
    "sample_directory = './figs' #Directory to save sample images from generator in.\n",
    "model_directory = './models' #Directory to load trained model from.\n",
    "batch_size_sample = 36\n",
    "\n",
    "init = tf.global_variables_initializer()\n",
    "saver = tf.train.Saver()\n",
    "path = './models/model-9000.cptk'\n",
    "with tf.Session(config=config) as sess:  \n",
    "    sess.run(init)\n",
    "    #Reload the model.\n",
    "    print( 'Loading Model...')\n",
    "    saver.restore(sess, save_path=path)\n",
    "    zs = np.random.uniform(-1.0,1.0,size=[batch_size_sample,z_size]).astype(np.float32) #Generate a random z batch\n",
    "    newZ = sess.run(Gz,feed_dict={z_in:z2}) #Use new z to get sample images from generator.\n",
    "    if not os.path.exists(sample_directory):\n",
    "        os.makedirs(sample_directory)\n",
    "    save_images(np.reshape(newZ[0:batch_size_sample],[36,32,32]),[6,6],sample_directory+'/fig' + str(0) + '.png')"
   ]
  },
  {
   "cell_type": "markdown",
   "metadata": {},
   "source": [
    "### Task 2 (2 points)\n",
    "Run a couple of iterations and visualize examples generated by the generator (Could be found in ./fig folder)"
   ]
  },
  {
   "cell_type": "code",
   "execution_count": 35,
   "metadata": {},
   "outputs": [
    {
     "data": {
      "image/png": "[encoded data removed]",
      "text/plain": [
       "<IPython.core.display.Image object>"
      ]
     },
     "execution_count": 35,
     "metadata": {},
     "output_type": "execute_result"
    }
   ],
   "source": [
    "from IPython.display import Image\n",
    "Image(filename='figs/fig0.png')"
   ]
  },
  {
   "cell_type": "markdown",
   "metadata": {},
   "source": [
    "### Task 3 (5 points)\n",
    "Evaluate discrimator accuracy in the pre-trained model on any representative subsample of fashion-minst"
   ]
  },
  {
   "cell_type": "code",
   "execution_count": 10,
   "metadata": {
    "collapsed": true
   },
   "outputs": [],
   "source": [
    "# Your code here"
   ]
  }
 ],
 "metadata": {
  "kernelspec": {
   "display_name": "Python 3",
   "language": "python",
   "name": "python3"
  },
  "language_info": {
   "codemirror_mode": {
    "name": "ipython",
    "version": 3
   },
   "file_extension": ".py",
   "mimetype": "text/x-python",
   "name": "python",
   "nbconvert_exporter": "python",
   "pygments_lexer": "ipython3",
   "version": "3.6.1"
  }
 },
 "nbformat": 4,
 "nbformat_minor": 1
}
