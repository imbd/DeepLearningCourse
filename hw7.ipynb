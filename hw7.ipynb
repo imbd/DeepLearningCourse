{
 "cells": [
  {
   "cell_type": "code",
   "execution_count": 1,
   "metadata": {},
   "outputs": [
    {
     "name": "stdout",
     "output_type": "stream",
     "text": [
      "Modules to reload:\n",
      "HanSequenceLabellingModel model_components\n",
      "\n",
      "Modules to skip:\n",
      "\n"
     ]
    }
   ],
   "source": [
    "import tensorflow as tf\n",
    "import time\n",
    "\n",
    "from HanSequenceLabellingModel import HanSequenceLabellingModel\n",
    "\n",
    "%load_ext autoreload\n",
    "%autoreload 1\n",
    "%aimport HanSequenceLabellingModel\n",
    "%aimport model_components\n",
    "%aimport"
   ]
  },
  {
   "cell_type": "code",
   "execution_count": 2,
   "metadata": {
    "collapsed": true
   },
   "outputs": [],
   "source": [
    "import tarfile\n",
    "import re\n",
    "import urllib.request\n",
    "import os\n",
    "import random\n",
    "\n",
    "class ImdbMovieReviews:\n",
    "    DEFAULT_URL = \\\n",
    "        'http://ai.stanford.edu/~amaas/data/sentiment/aclImdb_v1.tar.gz'\n",
    "    TOKEN_REGEX = re.compile(r'[A-Za-z]+|[!?.:,()]')\n",
    "    \n",
    "    def __init__(self):\n",
    "        self._cache_dir = './imdb'\n",
    "        self._url = 'http://ai.stanford.edu/~amaas/data/sentiment/aclImdb_v1.tar.gz'\n",
    "        \n",
    "        if not os.path.isfile(self._cache_dir):\n",
    "            urllib.request.urlretrieve(self._url, self._cache_dir)\n",
    "        self.filepath = self._cache_dir\n",
    "\n",
    "    def __iter__(self):\n",
    "        with tarfile.open(self.filepath) as archive:\n",
    "            items = archive.getnames()\n",
    "            for filename in archive.getnames():\n",
    "                if filename.startswith('aclImdb/train/pos/'):\n",
    "                    yield self._read(archive, filename), True\n",
    "                elif filename.startswith('aclImdb/train/neg/'):\n",
    "                    yield self._read(archive, filename), False\n",
    "                    \n",
    "    def _read(self, archive, filename):\n",
    "        with archive.extractfile(filename) as file_:\n",
    "            data = file_.read().decode('utf-8')\n",
    "            data = type(self).TOKEN_REGEX.findall(data)\n",
    "            data = [x.lower() for x in data]\n",
    "            return data"
   ]
  },
  {
   "cell_type": "code",
   "execution_count": 3,
   "metadata": {
    "collapsed": true
   },
   "outputs": [],
   "source": [
    "import numpy as np\n",
    "# Spacy is my favourite nlp framework, which havu builtin word embeddings trains on wikipesia\n",
    "from spacy.en import English\n",
    "\n",
    "class Embedding:\n",
    "    \n",
    "    def __init__(self):\n",
    "#          spaCy makes using word vectors very easy. \n",
    "#             The Lexeme , Token , Span  and Doc  classes all have a .vector property,\n",
    "#             which is a 1-dimensional numpy array of 32-bit floats:\n",
    "        self.parser = English()\n",
    "#         self._length = length\n",
    "        self.dimensions = 300\n",
    "        \n",
    "    def __call__(self, sequence, length):\n",
    "        # DO I really need them to be equal length?\n",
    "        # Let's assume I'm not\n",
    "        data = np.zeros((length, self.dimensions))\n",
    "        # you can access known words from the parser's vocabulary\n",
    "        embedded = [self.parser.vocab[w].vector for w in sequence]\n",
    "        data[:len(sequence)] = embedded\n",
    "        return data"
   ]
  },
  {
   "cell_type": "code",
   "execution_count": 4,
   "metadata": {
    "collapsed": true
   },
   "outputs": [],
   "source": [
    "import itertools\n",
    "\n",
    "def preprocess_batched_split(iterator, embedding, batch_size):\n",
    "    iterator = iter(iterator)\n",
    "    while True:\n",
    "        batch = []\n",
    "        labelss = []\n",
    "        sentence_sizes_batch = []\n",
    "        for index in range(batch_size):\n",
    "            text, label = next(iterator)\n",
    "            sents = [list(y) for x, y in itertools.groupby(text, lambda z: z == '.') if not x]\n",
    "            sentence_sizes = [len(s) for s in sents]\n",
    "            text_embed = [embedding(sent) for sent in sents]\n",
    "            \n",
    "            batch.append(text_embed)\n",
    "            labelss.append(label)\n",
    "            sentence_sizes_batch.append(sentence_sizes)\n",
    "            \n",
    "        labels_batch = np.array(labelss, dtype=np.int32)\n",
    "        sent_per_doc = np.array([len(x) for x in sentence_sizes_batch])\n",
    "        words_per_sent_per_doc = np.array(sentence_sizes_batch)\n",
    "        yield np.array(batch), labels_batch, words_per_sent_per_doc, sent_per_doc"
   ]
  },
  {
   "cell_type": "code",
   "execution_count": 5,
   "metadata": {
    "collapsed": true
   },
   "outputs": [],
   "source": [
    "import itertools\n",
    "\n",
    "def preprocess_batched_split2(iterator, embedding, batch_size):\n",
    "    iterator = iter(iterator)\n",
    "    while True:\n",
    "        batch, labels_b = zip(*itertools.islice(iterator, batch_size))\n",
    "        \n",
    "        sents_b = [[list(y) for x, y in itertools.groupby(doc, lambda z: z == '.') if not x] for doc in batch]\n",
    "\n",
    "        sentence_sizes_b = [[len(sent) for sent in doc] for doc in sents_b]\n",
    "        sentence_size = max(map(max, sentence_sizes_b))\n",
    "        \n",
    "        document_sizes = np.array([len(doc) for doc in sentence_sizes_b], dtype=np.int32)\n",
    "        document_size = document_sizes.max()\n",
    "\n",
    "        sentence_sizes_np = np.zeros(shape=[batch_size, document_size], dtype=np.int32)\n",
    "        for bi, ds, ss in zip(range(sentence_sizes_np.shape[0]), document_sizes, sentence_sizes_b):\n",
    "            sentence_sizes_np[bi][:ds] = ss\n",
    "        \n",
    "        text_embed_b = np.zeros((batch_size, document_size, sentence_size, 300))\n",
    "        for i, ds, doc_sents in zip(range(text_embed_b.shape[0]), document_sizes, sents_b):\n",
    "            doc_sents_embed = np.array([embedding(sent, sentence_size) for sent in doc_sents])\n",
    "            text_embed_b[i][:ds] = doc_sents_embed\n",
    "        \n",
    "        yield text_embed_b, np.array(labels_b, dtype=np.int32), np.array(document_sizes), sentence_sizes_np, sents_b"
   ]
  },
  {
   "cell_type": "code",
   "execution_count": 7,
   "metadata": {},
   "outputs": [],
   "source": [
    "reviews = list(ImdbMovieReviews())"
   ]
  },
  {
   "cell_type": "code",
   "execution_count": 8,
   "metadata": {
    "collapsed": true
   },
   "outputs": [],
   "source": [
    "random.shuffle(reviews)"
   ]
  },
  {
   "cell_type": "code",
   "execution_count": 9,
   "metadata": {
    "collapsed": true
   },
   "outputs": [],
   "source": [
    "batch_size = 10"
   ]
  },
  {
   "cell_type": "code",
   "execution_count": 10,
   "metadata": {},
   "outputs": [],
   "source": [
    "batches_split = preprocess_batched_split2(reviews, Embedding(), batch_size=batch_size)"
   ]
  },
  {
   "cell_type": "code",
   "execution_count": 14,
   "metadata": {},
   "outputs": [],
   "source": [
    "def HAN_model_1(session, restore_only=False):\n",
    "    \"\"\"Hierarhical Attention Network\"\"\"\n",
    "    import tensorflow as tf\n",
    "    try:\n",
    "        from tensorflow.contrib.rnn import GRUCell, MultiRNNCell, DropoutWrapper\n",
    "    except ImportError:\n",
    "        MultiRNNCell = tf.nn.rnn_cell.MultiRNNCell\n",
    "        GRUCell = tf.nn.rnn_cell.GRUCell\n",
    "    from bn_lstm import BNLSTMCell\n",
    "    from HanSequenceLabellingModel import HanSequenceLabellingModel\n",
    "\n",
    "    is_training = tf.placeholder(dtype=tf.bool, name='is_training')\n",
    "\n",
    "    cell = BNLSTMCell(80, is_training) # h-h batchnorm LSTMCell\n",
    "    cell = MultiRNNCell([cell]*5)\n",
    "\n",
    "    model = HanSequenceLabellingModel(\n",
    "            embedding_size=300,\n",
    "            classes=2,\n",
    "            word_cell=cell,\n",
    "            sentence_cell=cell,\n",
    "            word_output_size=300,\n",
    "            sentence_output_size=300,\n",
    "            learning_rate=0.001,\n",
    "            max_grad_norm=5.0,\n",
    "            dropout_keep_proba=0.5,\n",
    "            is_training=is_training\n",
    "    )\n",
    "\n",
    "    saver = tf.train.Saver(tf.global_variables())\n",
    "    checkpoint_dir = 'checkpoints'\n",
    "    checkpoint = tf.train.get_checkpoint_state(checkpoint_dir)\n",
    "    if checkpoint:\n",
    "        print(\"Reading model parameters from %s\" % checkpoint.model_checkpoint_path)\n",
    "        saver.restore(session, checkpoint.model_checkpoint_path)\n",
    "    elif restore_only:\n",
    "        raise FileNotFoundError(\"Cannot restore model\")\n",
    "    else:\n",
    "        print(\"Created model with fresh parameters\")\n",
    "        session.run(tf.global_variables_initializer())\n",
    "        \n",
    "    return model, saver"
   ]
  },
  {
   "cell_type": "code",
   "execution_count": 16,
   "metadata": {},
   "outputs": [
    {
     "name": "stdout",
     "output_type": "stream",
     "text": [
      "Reading model parameters from checkpoints/checkpoint-2500\n",
      "INFO:tensorflow:Restoring parameters from checkpoints/checkpoint-2500\n",
      "step 2501, loss=0.321195, accuracy=0.8, t=43.5, inputs=(10, 36, 66, 300)\n"
     ]
    }
   ],
   "source": [
    "tf.reset_default_graph()\n",
    "gpu_options = tf.GPUOptions(per_process_gpu_memory_fraction=0.33)\n",
    "#config = tf.ConfigProto(allow_soft_placement=True, gpu_options=gpu_options)\n",
    "config = tf.ConfigProto(device_count={'GPU': 0})\n",
    "\n",
    "with tf.Session(config=config) as s:\n",
    "    model, saver = HAN_model_1(s)\n",
    "    tflog_dir = 'tf_logs'\n",
    "    summary_writer = tf.summary.FileWriter(tflog_dir, graph=tf.get_default_graph())\n",
    "\n",
    "    for i, (data, labels_batch, sent_per_doc, words_per_sent_per_doc, _) in enumerate(batches_split):\n",
    "\n",
    "        fd = {\n",
    "            model.is_training: True,\n",
    "            model.inputs_embedded: data,\n",
    "            model.word_lengths: words_per_sent_per_doc,\n",
    "            model.sentence_lengths: sent_per_doc,\n",
    "            model.labels: labels_batch,\n",
    "            model.sample_weights: np.ones(shape=(10))\n",
    "        }\n",
    "\n",
    "        t0 = time.clock()\n",
    "        step, summaries, loss, accuracy, _ = s.run([\n",
    "                model.global_step,\n",
    "                model.summary,\n",
    "                model.loss,\n",
    "                model.accuracy,\n",
    "                model.train_op,\n",
    "        ], feed_dict=fd)\n",
    "        td = time.clock() - t0\n",
    "\n",
    "        summary_writer.add_summary(summaries, global_step=step)\n",
    "\n",
    "        checkpoint_frequency = 100\n",
    "        eval_frequency = 1\n",
    "        \n",
    "        if step % 1 == 0:\n",
    "            print('step %s, loss=%s, accuracy=%s, t=%s, inputs=%s' % (step, loss, accuracy, round(td, 2), fd[model.inputs_embedded].shape))\n",
    "        if step != 0 and step % checkpoint_frequency == 0:\n",
    "            print('checkpoint & graph meta')\n",
    "            checkpoint_path = 'checkpoints/checkpoint'\n",
    "            saver.save(s, checkpoint_path, global_step=step)\n",
    "            print('checkpoint done')\n",
    "        break"
   ]
  },
  {
   "cell_type": "markdown",
   "metadata": {
    "collapsed": true
   },
   "source": [
    "### Visualization"
   ]
  },
  {
   "cell_type": "code",
   "execution_count": 19,
   "metadata": {},
   "outputs": [
    {
     "name": "stdout",
     "output_type": "stream",
     "text": [
      "Reading model parameters from checkpoints/checkpoint-2500\n",
      "INFO:tensorflow:Restoring parameters from checkpoints/checkpoint-2500\n",
      "(150, 300)\n",
      "\u001b[48;2;255;223;255m\n",
      "Sentence\u001b[0m: \u001b[48;2;254;255;255mit\u001b[0m \u001b[48;2;155;255;255ms\u001b[0m \u001b[48;2;216;255;255mnothing\u001b[0m \u001b[48;2;216;255;255mbrilliant\u001b[0m \u001b[48;2;216;255;255m,\u001b[0m \u001b[48;2;216;255;255mgroundbreaking\u001b[0m \u001b[48;2;216;255;255mor\u001b[0m \u001b[48;2;216;255;255minnovative\u001b[0m \u001b[48;2;255;255;255m,\u001b[0m \u001b[48;2;215;255;255mbut\u001b[0m \u001b[48;2;216;255;255mdog\u001b[0m \u001b[48;2;216;255;255mdays\u001b[0m \u001b[48;2;216;255;255mis\u001b[0m \u001b[48;2;216;255;255mfor\u001b[0m \u001b[48;2;216;255;255msome\u001b[0m \u001b[48;2;229;255;255mreason\u001b[0m \u001b[48;2;216;255;255man\u001b[0m \u001b[48;2;218;255;255mextremely\u001b[0m \u001b[48;2;216;255;255mfascinating\u001b[0m \u001b[48;2;216;255;255mcharacter\u001b[0m \u001b[48;2;216;255;255mstudy\u001b[0m \u001b[48;2;255;223;255m\n",
      "Sentence\u001b[0m: \u001b[48;2;222;255;255mit\u001b[0m \u001b[48;2;222;255;255ms\u001b[0m \u001b[48;2;222;255;255mlike\u001b[0m \u001b[48;2;218;255;255mcrash\u001b[0m \u001b[48;2;222;255;255mtripping\u001b[0m \u001b[48;2;193;255;255mon\u001b[0m \u001b[48;2;222;255;255ma\u001b[0m \u001b[48;2;222;255;255mbad\u001b[0m \u001b[48;2;222;255;255mdose\u001b[0m \u001b[48;2;197;255;255mof\u001b[0m \u001b[48;2;222;255;255mheroin\u001b[0m \u001b[48;2;255;255;255m,\u001b[0m \u001b[48;2;222;255;255mbut\u001b[0m \u001b[48;2;155;255;255mnot\u001b[0m \u001b[48;2;225;255;255mreally\u001b[0m \u001b[48;2;255;223;255m\n",
      "Sentence\u001b[0m: \u001b[48;2;211;255;255mit\u001b[0m \u001b[48;2;209;255;255ms\u001b[0m \u001b[48;2;209;255;255man\u001b[0m \u001b[48;2;209;255;255maustrian\u001b[0m \u001b[48;2;209;255;255mfilm\u001b[0m \u001b[48;2;209;255;255mfollowing\u001b[0m \u001b[48;2;255;255;255mthe\u001b[0m \u001b[48;2;255;255;255mlives\u001b[0m \u001b[48;2;232;255;255mof\u001b[0m \u001b[48;2;209;255;255mseveral\u001b[0m \u001b[48;2;209;255;255mdepressed\u001b[0m \u001b[48;2;236;255;255m,\u001b[0m \u001b[48;2;175;255;255mderanged\u001b[0m \u001b[48;2;209;255;255mand\u001b[0m \u001b[48;2;209;255;255mannoying\u001b[0m \u001b[48;2;215;255;255mpeople\u001b[0m \u001b[48;2;155;255;255mand\u001b[0m \u001b[48;2;196;255;255mtheir\u001b[0m \u001b[48;2;209;255;255mabusive\u001b[0m \u001b[48;2;237;255;255mrelationships\u001b[0m \u001b[48;2;248;255;255mwith\u001b[0m \u001b[48;2;219;255;255meach\u001b[0m \u001b[48;2;209;255;255mother\u001b[0m \u001b[48;2;255;223;255m\n",
      "Sentence\u001b[0m: \u001b[48;2;210;255;255mit\u001b[0m \u001b[48;2;210;255;255ms\u001b[0m \u001b[48;2;210;255;255mdisturbing\u001b[0m \u001b[48;2;210;255;255m,\u001b[0m \u001b[48;2;246;255;255myet\u001b[0m \u001b[48;2;210;255;255mvery\u001b[0m \u001b[48;2;235;255;255mwell\u001b[0m \u001b[48;2;255;255;255macted\u001b[0m \u001b[48;2;210;255;255mand\u001b[0m \u001b[48;2;210;255;255mit\u001b[0m \u001b[48;2;210;255;255ms\u001b[0m \u001b[48;2;237;255;255minteresting\u001b[0m \u001b[48;2;171;255;255mto\u001b[0m \u001b[48;2;210;255;255mwatch\u001b[0m \u001b[48;2;210;255;255mthe\u001b[0m \u001b[48;2;205;255;255mcrazy\u001b[0m \u001b[48;2;155;255;255mlittle\u001b[0m \u001b[48;2;210;255;255mthings\u001b[0m \u001b[48;2;210;255;255mthese\u001b[0m \u001b[48;2;242;255;255mcharacters\u001b[0m \u001b[48;2;210;255;255mdo\u001b[0m \u001b[48;2;255;255;255m\n",
      "Sentence\u001b[0m: \u001b[48;2;212;255;255mcertainly\u001b[0m \u001b[48;2;183;255;255mnot\u001b[0m \u001b[48;2;206;255;255mfor\u001b[0m \u001b[48;2;206;255;255mthe\u001b[0m \u001b[48;2;206;255;255mweak\u001b[0m \u001b[48;2;165;255;255mhearted\u001b[0m \u001b[48;2;206;255;255m,\u001b[0m \u001b[48;2;206;255;255mthis\u001b[0m \u001b[48;2;248;255;255mhighly\u001b[0m \u001b[48;2;206;255;255mpessimistic\u001b[0m \u001b[48;2;255;255;255mfilm\u001b[0m \u001b[48;2;234;255;255moffers\u001b[0m \u001b[48;2;182;255;255mno\u001b[0m \u001b[48;2;155;255;255mconclusion\u001b[0m \u001b[48;2;214;255;255mor\u001b[0m \u001b[48;2;206;255;255mrevelation\u001b[0m \u001b[48;2;206;255;255mat\u001b[0m \u001b[48;2;206;255;255mthe\u001b[0m \u001b[48;2;166;255;255mend\u001b[0m \u001b[48;2;206;255;255m,\u001b[0m \u001b[48;2;245;255;255mwe\u001b[0m \u001b[48;2;211;255;255mjust\u001b[0m \u001b[48;2;206;255;255msee\u001b[0m \u001b[48;2;206;255;255mthe\u001b[0m \u001b[48;2;243;255;255mlives\u001b[0m \u001b[48;2;254;255;255mof\u001b[0m \u001b[48;2;206;255;255mthese\u001b[0m \u001b[48;2;206;255;255msordid\u001b[0m \u001b[48;2;216;255;255mindividuals\u001b[0m \u001b[48;2;206;255;255mover\u001b[0m \u001b[48;2;206;255;255mthe\u001b[0m \u001b[48;2;230;255;255mcourse\u001b[0m \u001b[48;2;206;255;255mof\u001b[0m \u001b[48;2;172;255;255mtwo\u001b[0m \u001b[48;2;206;255;255mdays\u001b[0m \u001b[48;2;255;155;255m\n",
      "Sentence\u001b[0m: \u001b[48;2;155;255;255mgrade\u001b[0m \u001b[48;2;185;255;255m:\u001b[0m \u001b[48;2;255;255;255mb\u001b[0m "
     ]
    }
   ],
   "source": [
    "from colors import color\n",
    "\n",
    "tf.reset_default_graph()\n",
    "gpu_options = tf.GPUOptions(per_process_gpu_memory_fraction=0.33)\n",
    "config = tf.ConfigProto(device_count={'GPU': 0})\n",
    "\n",
    "with tf.Session(config=config) as s:\n",
    "    model, saver = HAN_model_1(s)\n",
    "\n",
    "    data, labels_batch, sent_per_doc, words_per_sent_per_doc, sentence_batch = next(batches_split)\n",
    "\n",
    "    fd = {\n",
    "        model.is_training: True,\n",
    "        model.inputs_embedded: data,\n",
    "        model.word_lengths: words_per_sent_per_doc,\n",
    "        model.sentence_lengths: sent_per_doc,\n",
    "        model.labels: labels_batch,\n",
    "        model.sample_weights: np.ones(shape=(10))            \n",
    "    }\n",
    "    \n",
    "    sentence_attentions, word_attentions = s.run([model.sentence_level_output, model.word_level_output], feed_dict=fd)\n",
    "        \n",
    "    sentences_number = sent_per_doc[0]\n",
    "    \n",
    "    min_sentence_attention = np.min(sentence_attentions[0, :sentences_number])\n",
    "    max_sentence_attention = np.max(sentence_attentions[0, :sentences_number])\n",
    "    if max_sentence_attention == min_sentence_attention:\n",
    "        max_sentence_attention += 1\n",
    "    \n",
    "    print(word_attentions.shape)\n",
    "    \n",
    "    for i in range(sentences_number):\n",
    "        s = \"\"\n",
    "        sentence_length = words_per_sent_per_doc[0, i]\n",
    "        min_word_attention = np.min(word_attentions[i, :sentence_length])\n",
    "        max_word_attention = np.max(word_attentions[i, :sentence_length])\n",
    "        if max_word_attention == min_word_attention:\n",
    "            max_word_attention += 1\n",
    "        print(color(\"\\nSentence\", bg=(255, 255 - int(100 * (sentence_attentions[0, i] - min_sentence_attention) \n",
    "                                                      / (max_sentence_attention - min_sentence_attention)), 255)), end= \": \")\n",
    "        for j in range(sentence_length):            \n",
    "            print(color(sentence_batch[0][i][j], bg=(255 - int(100 * (word_attentions[i, j] - min_word_attention) \n",
    "                                                      / (max_word_attention - min_word_attention)) , 255, 255)), end= \" \")        \n",
    "    \n",
    "    "
   ]
  },
  {
   "cell_type": "markdown",
   "metadata": {},
   "source": [
    "### Attention weight distribution of words \"good\" and \"bad\""
   ]
  },
  {
   "cell_type": "code",
   "execution_count": 45,
   "metadata": {},
   "outputs": [
    {
     "name": "stdout",
     "output_type": "stream",
     "text": [
      "Reading model parameters from checkpoints/checkpoint-2500\n",
      "INFO:tensorflow:Restoring parameters from checkpoints/checkpoint-2500\n",
      "Iteration 0\n",
      "Iteration 100\n",
      "Iteration 200\n",
      "Iteration 300\n",
      "Iteration 400\n"
     ]
    }
   ],
   "source": [
    "import sys\n",
    "\n",
    "tf.reset_default_graph()\n",
    "gpu_options = tf.GPUOptions(per_process_gpu_memory_fraction=0.33)\n",
    "#config = tf.ConfigProto(allow_soft_placement=True, gpu_options=gpu_options)\n",
    "config = tf.ConfigProto(device_count={'GPU': 0})\n",
    "\n",
    "check_words = [\"good\", \"bad\"]\n",
    "\n",
    "bg_data = [[[], []] for i in range(len(check_words))]\n",
    "\n",
    "iterations_number = 500\n",
    "with tf.Session(config=config) as s:\n",
    "    model, saver = HAN_model_1(s)\n",
    "\n",
    "    for it in range(iterations_number):\n",
    "        data, labels_batch, sent_per_doc, words_per_sent_per_doc, sentence_batch = next(batches_split)\n",
    "\n",
    "        fd = {\n",
    "            model.is_training: True,\n",
    "            model.inputs_embedded: data,\n",
    "            model.word_lengths: words_per_sent_per_doc,\n",
    "            model.sentence_lengths: sent_per_doc,\n",
    "            model.labels: labels_batch,\n",
    "            model.sample_weights: np.ones(shape=(10))            \n",
    "        }\n",
    "        \n",
    "        _, word_attentions = s.run([model.sentence_level_output, model.word_level_output], feed_dict=fd)\n",
    "\n",
    "        for b_ind in range(len(sentence_batch[0])):\n",
    "            sentence = sentence_batch[0][b_ind]\n",
    "            for j in range(len(sentence)):\n",
    "                for ind in range(len(check_words)):\n",
    "                    if check_words[ind] == sentence[j]:\n",
    "                        bg_data[labels_batch[0]][ind].append(word_attentions[b_ind, j])\n",
    "        if it % 100 == 0:\n",
    "            print('Iteration', it)"
   ]
  },
  {
   "cell_type": "code",
   "execution_count": 47,
   "metadata": {},
   "outputs": [
    {
     "name": "stderr",
     "output_type": "stream",
     "text": [
      "/opt/anaconda3/lib/python3.6/site-packages/matplotlib/font_manager.py:1297: UserWarning: findfont: Font family ['sans-serif'] not found. Falling back to DejaVu Sans\n",
      "  (prop.get_family(), self.defaultFamily[fontext]))\n"
     ]
    },
    {
     "data": {
      "image/png": "[encoded data removed]",
      "text/plain": [
       "<matplotlib.figure.Figure at 0x7f3da0c56cc0>"
      ]
     },
     "metadata": {},
     "output_type": "display_data"
    },
    {
     "data": {
      "image/png": "[encoded data removed]",
      "text/plain": [
       "<matplotlib.figure.Figure at 0x7f3d819f4668>"
      ]
     },
     "metadata": {},
     "output_type": "display_data"
    }
   ],
   "source": [
    "import seaborn as sns\n",
    "import matplotlib.pyplot as plt\n",
    "\n",
    "sns.distplot(bg_data[0][check_words.index(\"good\")], label=\"good in neg\")\n",
    "sns.distplot(bg_data[1][check_words.index(\"good\")], label=\"good in pos\")\n",
    "plt.legend()\n",
    "plt.show()\n",
    "\n",
    "sns.distplot(bg_data[0][check_words.index(\"bad\")], label=\"bad in neg\")\n",
    "sns.distplot(bg_data[1][check_words.index(\"bad\")], label=\"bad in pos\")\n",
    "plt.legend()\n",
    "plt.show()"
   ]
  }
 ],
 "metadata": {
  "kernelspec": {
   "display_name": "Python 3",
   "language": "python",
   "name": "python3"
  },
  "language_info": {
   "codemirror_mode": {
    "name": "ipython",
    "version": 3
   },
   "file_extension": ".py",
   "mimetype": "text/x-python",
   "name": "python",
   "nbconvert_exporter": "python",
   "pygments_lexer": "ipython3",
   "version": "3.6.1"
  }
 },
 "nbformat": 4,
 "nbformat_minor": 2
}
